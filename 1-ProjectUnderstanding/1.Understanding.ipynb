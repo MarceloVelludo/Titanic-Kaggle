{
 "cells": [
  {
   "cell_type": "markdown",
   "id": "d6ae4759-02d4-4305-8e44-8102fc097b14",
   "metadata": {},
   "source": [
    "## 1- Understanding the Project"
   ]
  },
  {
   "cell_type": "markdown",
   "id": "d792213a-d6e2-4eda-8359-1bbef3da2d06",
   "metadata": {},
   "source": [
    "The first phase of the project is the understanding. This stage, consist of describe the objectives and requisites of the project."
   ]
  },
  {
   "cell_type": "markdown",
   "id": "eba23796-788d-44d0-85f8-79407cb57acc",
   "metadata": {},
   "source": [
    "### A) Introduction"
   ]
  },
  {
   "cell_type": "markdown",
   "id": "9234dd11-ed19-4962-b943-44e3db6e64fa",
   "metadata": {},
   "source": [
    "This project is part of a begginers introduction to the competitions on Kaggle platform. The competition consist of making predictions about the survivals on the titanic. Despite beeing entry level challenge, this project has a second purpose to myself. The second purpose of doing this challange is organize a base project on the CRISP-DM model for more complex projects on future."
   ]
  },
  {
   "cell_type": "markdown",
   "id": "3ffae7a9-94fc-458c-b55c-208d0b10feb2",
   "metadata": {},
   "source": [
    "### B) Objective"
   ]
  },
  {
   "cell_type": "markdown",
   "id": "7be9d26c-2aff-490a-98b3-ab71a0e3a254",
   "metadata": {},
   "source": [
    "Setting aside de personal goal, the objective on the project is apply machine learning to create a model that predicts which passengers survived the Titanic shipwreck."
   ]
  },
  {
   "cell_type": "markdown",
   "id": "eb0a6755-36e2-463d-8a9b-09250b83ed69",
   "metadata": {},
   "source": [
    "### C) Requirements"
   ]
  },
  {
   "cell_type": "markdown",
   "id": "a1e370f0-3c57-478f-a190-06a2f97d7e1a",
   "metadata": {},
   "source": [
    "To acomplish the objective, we will make the things as simple as possible but respecting a minimal structure. We do not plan to implement a CI/CD from the beggining but for future versions of this project there will be a CI/CD pipeline to automate the tests on the model.\n",
    "The project will be implemented using python and the basic librarys to manipulate the data and implement the machine learning algorithm. Some of the librarys is the following:\n",
    "\n",
    "    - Numpy\n",
    "    - Scikit-learn\n",
    "    - Pandas\n",
    "\n",
    "An extensive list of the librarys will be exported at the end of the version and placed in the main folder."
   ]
  },
  {
   "cell_type": "markdown",
   "id": "fa24ef61-7605-444c-941e-9d2ade203447",
   "metadata": {},
   "source": [
    "### D) Information About the Data"
   ]
  },
  {
   "cell_type": "markdown",
   "id": "14988272-f9c6-45c6-b180-b89c1105e168",
   "metadata": {},
   "source": [
    " As has been said, the project is a Kaggle competition so the informations about the data could be acessed on the following link: https://www.kaggle.com/competitions/titanic/overview . Moreover, the data is already splited into two groups: Training set, test set. The file extension is \".csv\". A data directory will be created on the main folder, and the data will be dowloaded into the directory. The data contains 418 entrys for the test and 891 for training. Maybe can have miss values on the columns and possible the data needs some processing. A further study will be conducted before implementation of the model."
   ]
  },
  {
   "cell_type": "markdown",
   "id": "321fa6f6-da85-4067-ac8d-26466946a93e",
   "metadata": {},
   "source": [
    "### E)Modeling"
   ]
  },
  {
   "cell_type": "markdown",
   "id": "cda9f902-b2dc-4557-bdc9-4971b07e8ac6",
   "metadata": {},
   "source": [
    "The project on the beggining will be as simple as possible. As we stated above, the objective is a classification problem; Given the features we would like to classify whether the passenger survived or not. Keeping the simplicity, the first model that will be applied is Logistic Regression, a simple but powerful model."
   ]
  },
  {
   "cell_type": "markdown",
   "id": "9a821736-1ad6-419d-b5b1-1b1da699abca",
   "metadata": {},
   "source": [
    "### F)Evaluation"
   ]
  },
  {
   "cell_type": "markdown",
   "id": "f3d46cf0-ee01-4fc4-9d91-2f5bb8ba5c81",
   "metadata": {},
   "source": [
    "The problem is a Binary classification, is not a multi-clasTs problem. Given this fact, there is not much problems about which metrics to use. Thereupon, we will utilize simple metrics as accuracy, precision,recall, F1-score, ROC-curve and AOC."
   ]
  }
 ],
 "metadata": {
  "kernelspec": {
   "display_name": "Python 3 (ipykernel)",
   "language": "python",
   "name": "python3"
  },
  "language_info": {
   "codemirror_mode": {
    "name": "ipython",
    "version": 3
   },
   "file_extension": ".py",
   "mimetype": "text/x-python",
   "name": "python",
   "nbconvert_exporter": "python",
   "pygments_lexer": "ipython3",
   "version": "3.11.4"
  }
 },
 "nbformat": 4,
 "nbformat_minor": 5
}
