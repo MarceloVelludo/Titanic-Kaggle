{
 "cells": [
  {
   "cell_type": "markdown",
   "id": "d6ae4759-02d4-4305-8e44-8102fc097b14",
   "metadata": {},
   "source": [
    "## 1- Understanding the Project"
   ]
  },
  {
   "cell_type": "markdown",
   "id": "d792213a-d6e2-4eda-8359-1bbef3da2d06",
   "metadata": {},
   "source": [
    "The first phase of the project is the understanding. This stage, consist of describe the objectives and requisites of the project."
   ]
  },
  {
   "cell_type": "markdown",
   "id": "eba23796-788d-44d0-85f8-79407cb57acc",
   "metadata": {},
   "source": [
    "### A) Introduction"
   ]
  },
  {
   "cell_type": "markdown",
   "id": "9234dd11-ed19-4962-b943-44e3db6e64fa",
   "metadata": {},
   "source": [
    "This project is part of a begginers introduction to the competitions on Kaggle platform. The competition consist of making predictions about the survivals on the titanic. Despite beeing entry level challenge, this project has a second purpose to myself. The second purpose of making this challange is organize a base project on the CRISP-DM model. "
   ]
  },
  {
   "cell_type": "code",
   "execution_count": null,
   "id": "ea6f9a3f-dcf9-4268-b176-fc954a757938",
   "metadata": {},
   "outputs": [],
   "source": []
  }
 ],
 "metadata": {
  "kernelspec": {
   "display_name": "Python 3 (ipykernel)",
   "language": "python",
   "name": "python3"
  },
  "language_info": {
   "codemirror_mode": {
    "name": "ipython",
    "version": 3
   },
   "file_extension": ".py",
   "mimetype": "text/x-python",
   "name": "python",
   "nbconvert_exporter": "python",
   "pygments_lexer": "ipython3",
   "version": "3.11.4"
  }
 },
 "nbformat": 4,
 "nbformat_minor": 5
}
